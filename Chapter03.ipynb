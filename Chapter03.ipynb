{
  "nbformat": 4,
  "nbformat_minor": 0,
  "metadata": {
    "colab": {
      "name": "Chapter03.ipynb",
      "provenance": [],
      "collapsed_sections": [],
      "authorship_tag": "ABX9TyNcM0n9zpcUsawbl36yDYLj",
      "include_colab_link": true
    },
    "kernelspec": {
      "name": "python3",
      "display_name": "Python 3"
    },
    "language_info": {
      "name": "python"
    },
    "accelerator": "GPU"
  },
  "cells": [
    {
      "cell_type": "markdown",
      "metadata": {
        "id": "view-in-github",
        "colab_type": "text"
      },
      "source": [
        "<a href=\"https://colab.research.google.com/github/harryk1/python-analytics/blob/main/Chapter03.ipynb\" target=\"_parent\"><img src=\"https://colab.research.google.com/assets/colab-badge.svg\" alt=\"Open In Colab\"/></a>"
      ]
    },
    {
      "cell_type": "code",
      "metadata": {
        "id": "vsN2aSYRoav5"
      },
      "source": [
        ""
      ],
      "execution_count": null,
      "outputs": []
    },
    {
      "cell_type": "markdown",
      "metadata": {
        "id": "shTWZmFgpBWA"
      },
      "source": [
        "### 3.1 Data Structures\n",
        "__Set__: Sets are a collection of unique elements which need not be ordered. Sets can be defined using `set` function or using curly braces."
      ]
    },
    {
      "cell_type": "code",
      "metadata": {
        "id": "PoSLMd_zpji5"
      },
      "source": [
        "a_set = set(['a','b','m','n'])"
      ],
      "execution_count": 1,
      "outputs": []
    },
    {
      "cell_type": "code",
      "metadata": {
        "id": "NP2-lqLUr0u9"
      },
      "source": [
        "b_set = {'z','d','a','n'}"
      ],
      "execution_count": 5,
      "outputs": []
    },
    {
      "cell_type": "code",
      "metadata": {
        "colab": {
          "base_uri": "https://localhost:8080/"
        },
        "id": "cFLUV7s7r5hJ",
        "outputId": "6569e0f8-c25c-4955-e36d-1cdda3065a3c"
      },
      "source": [
        "a_set"
      ],
      "execution_count": 6,
      "outputs": [
        {
          "output_type": "execute_result",
          "data": {
            "text/plain": [
              "{'a', 'b', 'm', 'n'}"
            ]
          },
          "metadata": {
            "tags": []
          },
          "execution_count": 6
        }
      ]
    },
    {
      "cell_type": "code",
      "metadata": {
        "colab": {
          "base_uri": "https://localhost:8080/"
        },
        "id": "FHGicotKr87B",
        "outputId": "0bbe7aab-fd7e-49c5-878b-5e8d16bc5c17"
      },
      "source": [
        "b_set"
      ],
      "execution_count": 8,
      "outputs": [
        {
          "output_type": "execute_result",
          "data": {
            "text/plain": [
              "{'a', 'd', 'n', 'z'}"
            ]
          },
          "metadata": {
            "tags": []
          },
          "execution_count": 8
        }
      ]
    },
    {
      "cell_type": "markdown",
      "metadata": {
        "id": "_LjhNx-csF3L"
      },
      "source": [
        "## Set Operations\n",
        "Python support set operations on sets e.g. union, intersection, difference, symmetric difference, check if subset. Some of these functions have alternative syntax. \n",
        "```\n",
        "a_set.union(b_set) can be written as a | b\n",
        "```\n"
      ]
    }
  ]
}